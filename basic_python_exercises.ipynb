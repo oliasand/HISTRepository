{
  "cells": [
    {
      "cell_type": "markdown",
      "metadata": {
        "id": "SdbB1C2C8F8i"
      },
      "source": [
        "Welcome to this Python exercise set! These tasks will help you practice the basics of Python programming, from variables and simple arithmetic to control structures, loops, and file handling. Each exercise is designed to be completed in a few minutes, with helpful hints along the way.\n",
        "\n",
        "Let’s get started!"
      ]
    },
    {
      "cell_type": "markdown",
      "metadata": {
        "id": "FyQr5WlM8HFd"
      },
      "source": [
        "# Exercise 1: Variables, data types, and basic arithmetic"
      ]
    },
    {
      "cell_type": "markdown",
      "metadata": {
        "id": "NQIdJmod8KcO"
      },
      "source": [
        "We'll begin by working with basic variables and arithmetic.\n",
        "\n",
        "**Task:**\n",
        "\n",
        "1.   Create two variables, `a` and `b`, and assign them any integer values.\n",
        "2.   Print the result of adding, subtracting, multiplying, and dividing `a` and `b`.\n",
        "3.   Use an if statement to print whether `a` is greater than `b`.\n",
        "\n"
      ]
    },
    {
      "cell_type": "markdown",
      "metadata": {
        "id": "vSVBvXVM8lR9"
      },
      "source": [
        "## Hint"
      ]
    },
    {
      "cell_type": "markdown",
      "metadata": {
        "id": "T1oYmWFj8mpM"
      },
      "source": [
        "Use `if` and `else` to control the output based on a condition. Don’t forget to indent!"
      ]
    },
    {
      "cell_type": "code",
      "execution_count": 1,
      "metadata": {},
      "outputs": [
        {
          "name": "stdout",
          "output_type": "stream",
          "text": [
            "3\n",
            "1\n",
            "2\n",
            "2.0\n",
            "A is greater than B\n"
          ]
        }
      ],
      "source": [
        "a = 2\n",
        "b = 1\n",
        "\n",
        "print(a+b)\n",
        "print(a-b)\n",
        "print(a*b)\n",
        "print(a/b)\n",
        "\n",
        "if a > b:\n",
        "    print(\"A is greater than B\")\n",
        "else:\n",
        "    print(\"A is equal to or less than B\")"
      ]
    },
    {
      "cell_type": "markdown",
      "metadata": {
        "id": "xDb6n7x48qVj"
      },
      "source": [
        "## Solution"
      ]
    },
    {
      "cell_type": "code",
      "execution_count": null,
      "metadata": {
        "id": "qMHj9viU8BRF"
      },
      "outputs": [],
      "source": [
        "a = 7\n",
        "b = 3\n",
        "print(a + b)\n",
        "print(a - b)\n",
        "print(a * b)\n",
        "print(a / b)\n",
        "if a > b:\n",
        "    print(\"a is greater than b\")\n",
        "else:\n",
        "    print(\"a is not greater than b\")"
      ]
    },
    {
      "cell_type": "markdown",
      "metadata": {
        "id": "NJOiYSqp8w41"
      },
      "source": [
        "# Exercise 2: Lists and loops"
      ]
    },
    {
      "cell_type": "markdown",
      "metadata": {
        "id": "xO-UFnM-80aI"
      },
      "source": [
        "Now, let's work with lists and loops to iterate through data.\n",
        "\n",
        "**Task:**\n",
        "\n",
        "1.   Create a list of five of your favorite fruits.\n",
        "2.   Use a `for` loop to print each fruit.\n",
        "3.   Use an if statement inside the loop to print \"I love this one!\" when you reach your favorite fruit."
      ]
    },
    {
      "cell_type": "markdown",
      "metadata": {
        "id": "MatYpLdX9HZS"
      },
      "source": [
        "## Hint"
      ]
    },
    {
      "cell_type": "markdown",
      "metadata": {
        "id": "iVSgOSbr9IiJ"
      },
      "source": [
        "A `for` loop allows you to iterate through each item in a list. Use `==` to compare values in an if statement."
      ]
    },
    {
      "cell_type": "code",
      "execution_count": 2,
      "metadata": {},
      "outputs": [
        {
          "name": "stdout",
          "output_type": "stream",
          "text": [
            "mango\n",
            "strawberry\n",
            "blueberry\n",
            "plum , I love this one!\n",
            "pear\n"
          ]
        }
      ],
      "source": [
        "fruits = ['mango', 'strawberry', 'blueberry', 'plum', 'pear']\n",
        "for fruit in fruits:\n",
        "    if fruit == 'plum':\n",
        "        print(fruit, \", I love this one!\")\n",
        "    else:\n",
        "        print(fruit)"
      ]
    },
    {
      "cell_type": "markdown",
      "metadata": {
        "id": "t7hNEI7R9OKB"
      },
      "source": [
        "## Solution"
      ]
    },
    {
      "cell_type": "code",
      "execution_count": null,
      "metadata": {
        "id": "s21QUB0d9Nm-"
      },
      "outputs": [],
      "source": [
        "fruits = [\"apple\", \"banana\", \"cherry\", \"mango\", \"grape\"]\n",
        "for fruit in fruits:\n",
        "    if fruit == \"mango\":\n",
        "        print(fruit, \"- I love this one!\")\n",
        "    else:\n",
        "        print(fruit)"
      ]
    },
    {
      "cell_type": "markdown",
      "metadata": {
        "id": "l-2d2Vk89STb"
      },
      "source": [
        "# Exercise 3: Dictionaries and loops"
      ]
    },
    {
      "cell_type": "markdown",
      "metadata": {
        "id": "lqBBq0Kj9VYi"
      },
      "source": [
        "Dictionaries allow you to store key-value pairs. Let's practice accessing and modifying these pairs.\n",
        "\n",
        "Task:\n",
        "\n",
        "1.   Create a dictionary with three key-value pairs. Use a person's name as the key and their age as the value for each pair.\n",
        "2.   Loop through the dictionary to print out each person's name and age.\n",
        "3.   Modify the dictionary to add a new person and their age."
      ]
    },
    {
      "cell_type": "markdown",
      "metadata": {
        "id": "Uqgh-QwN9kgj"
      },
      "source": [
        "## Hint"
      ]
    },
    {
      "cell_type": "markdown",
      "metadata": {
        "id": "yIpHwcq89lnb"
      },
      "source": [
        "Use [`.items()`](https://www.w3schools.com/python/ref_dictionary_items.asp) to loop through both the keys and values of a dictionary."
      ]
    },
    {
      "cell_type": "code",
      "execution_count": 3,
      "metadata": {},
      "outputs": [
        {
          "name": "stdout",
          "output_type": "stream",
          "text": [
            "Olias , 19\n",
            "Nate , 19\n",
            "Cole , 18\n",
            "{'Olias': 19, 'Nate': 19, 'Cole': 18, 'Finnegan': 1}\n"
          ]
        }
      ],
      "source": [
        "dict = {'Olias': 19, 'Nate': 19, 'Cole': 18}\n",
        "for name, age in dict.items():\n",
        "    print(name,',', age)\n",
        "\n",
        "dict['Finnegan'] = 1\n",
        "print(dict)"
      ]
    },
    {
      "cell_type": "markdown",
      "metadata": {
        "id": "TpK1g6r094-e"
      },
      "source": [
        "## Solution"
      ]
    },
    {
      "cell_type": "code",
      "execution_count": null,
      "metadata": {
        "id": "qL9_x_Qv96ZU"
      },
      "outputs": [],
      "source": [
        "people = {\"Alice\": 30, \"Bob\": 25, \"Charlie\": 35}\n",
        "for name, age in people.items():\n",
        "    print(name, \"is\", age, \"years old\")\n",
        "\n",
        "people[\"Dave\"] = 40\n",
        "print(people)"
      ]
    },
    {
      "cell_type": "markdown",
      "metadata": {
        "id": "QN59daun9-jn"
      },
      "source": [
        "# Exercise 4: Functions"
      ]
    },
    {
      "cell_type": "markdown",
      "metadata": {
        "id": "y7ouPWiC-BQz"
      },
      "source": [
        "Functions help you organize code into reusable blocks. Let's create one!\n",
        "\n",
        "**Task:**\n",
        "\n",
        "1.   Define a function `multiply_numbers` that takes two arguments, `x` and `y`.\n",
        "2.   Inside the function, return the product of `x` and `y`.\n",
        "3.   Call the function with two numbers and print the result."
      ]
    },
    {
      "cell_type": "markdown",
      "metadata": {
        "id": "0gFiLEgU-WQQ"
      },
      "source": [
        "## Hint"
      ]
    },
    {
      "cell_type": "markdown",
      "metadata": {
        "id": "lTBclndF-Xi1"
      },
      "source": [
        "Use the `def` keyword to define a function, and `return` to send a value back from the function."
      ]
    },
    {
      "cell_type": "code",
      "execution_count": 4,
      "metadata": {},
      "outputs": [
        {
          "data": {
            "text/plain": [
              "20"
            ]
          },
          "execution_count": 4,
          "metadata": {},
          "output_type": "execute_result"
        }
      ],
      "source": [
        "def mult(x,y):\n",
        "    return x * y\n",
        "\n",
        "mult(4,5)"
      ]
    },
    {
      "cell_type": "markdown",
      "metadata": {
        "id": "2S4FHUPK-bEQ"
      },
      "source": [
        "## Solution"
      ]
    },
    {
      "cell_type": "code",
      "execution_count": null,
      "metadata": {
        "id": "ovFwLCjC-c4G"
      },
      "outputs": [],
      "source": [
        "def multiply_numbers(x, y):\n",
        "    return x * y\n",
        "\n",
        "result = multiply_numbers(4, 5)\n",
        "print(result)"
      ]
    },
    {
      "cell_type": "markdown",
      "metadata": {
        "id": "ANRRjx2i-fYP"
      },
      "source": [
        "# Exercise 5: Importing functions"
      ]
    },
    {
      "cell_type": "markdown",
      "metadata": {
        "id": "qJoFuSRw-kuT"
      },
      "source": [
        "Sometimes, you'll want to reuse code from other Python files or modules. Let's practice importing and using functions from built-in Python libraries.\n",
        "\n",
        "**Task:**\n",
        "\n",
        "1.   Import the `math` module.\n",
        "2.   Use the `math.sqrt()` function to calculate and print the square root of a number."
      ]
    },
    {
      "cell_type": "markdown",
      "metadata": {
        "id": "kHL0mirK-v8-"
      },
      "source": [
        "## Hint"
      ]
    },
    {
      "cell_type": "markdown",
      "metadata": {
        "id": "zh7puUYi-xHi"
      },
      "source": [
        "The math module contains many useful functions like `sqrt` for square roots and `pow` for exponentiation."
      ]
    },
    {
      "cell_type": "code",
      "execution_count": 6,
      "metadata": {},
      "outputs": [
        {
          "name": "stdout",
          "output_type": "stream",
          "text": [
            "5.0\n"
          ]
        }
      ],
      "source": [
        "import math\n",
        "print(math.sqrt(25))"
      ]
    },
    {
      "cell_type": "markdown",
      "metadata": {
        "id": "nF5pThVr-1Ad"
      },
      "source": [
        "## Solution"
      ]
    },
    {
      "cell_type": "code",
      "execution_count": null,
      "metadata": {
        "id": "EORVUIRc-3BH"
      },
      "outputs": [],
      "source": [
        "import math\n",
        "print(math.sqrt(16))"
      ]
    },
    {
      "cell_type": "markdown",
      "metadata": {
        "id": "7MaC6RcU-4lm"
      },
      "source": [
        "# Exercise 6: Reading from and writing to files"
      ]
    },
    {
      "cell_type": "markdown",
      "metadata": {
        "id": "Ew3h8vtt-8B_"
      },
      "source": [
        "Working with files is an essential part of programming. Let's practice reading and writing data to a file.\n",
        "\n",
        "Task:\n",
        "\n",
        "1.   Use Python to create a text file called `my_data.txt` and write three lines of text to it.\n",
        "2.   Read the contents of the file and print each line."
      ]
    },
    {
      "cell_type": "markdown",
      "metadata": {
        "id": "go2MTtbf_HYU"
      },
      "source": [
        "## Hint"
      ]
    },
    {
      "cell_type": "markdown",
      "metadata": {
        "id": "MIxSfk2L_Ibx"
      },
      "source": [
        "Use `open()` with mode `\"w\"` for writing and `\"r\"` for reading. Remember to use `.strip()` to remove extra whitespace or newline characters when printing lines from the file."
      ]
    },
    {
      "cell_type": "code",
      "execution_count": 9,
      "metadata": {},
      "outputs": [
        {
          "name": "stdout",
          "output_type": "stream",
          "text": [
            "line 1\n",
            "line 2\n",
            "line 3\n"
          ]
        }
      ],
      "source": [
        "with open (\"my_data.txt\", 'w') as data:\n",
        "    data.write(\"line 1\\n\")\n",
        "    data.write('line 2\\n')\n",
        "    data.write('line 3\\n')\n",
        "\n",
        "with open ('my_data.txt', 'r') as data:\n",
        "    for line in data:\n",
        "        print(line.strip())"
      ]
    },
    {
      "cell_type": "markdown",
      "metadata": {
        "id": "R0CKl0IO_QYa"
      },
      "source": [
        "## Solution"
      ]
    },
    {
      "cell_type": "code",
      "execution_count": null,
      "metadata": {
        "id": "XSJYG3m4_R3D"
      },
      "outputs": [],
      "source": [
        "# Writing to a file\n",
        "with open(\"my_data.txt\", \"w\") as file:\n",
        "    file.write(\"First line\\n\")\n",
        "    file.write(\"Second line\\n\")\n",
        "    file.write(\"Third line\\n\")\n",
        "\n",
        "# Reading from a file\n",
        "with open(\"my_data.txt\", \"r\") as file:\n",
        "    for line in file:\n",
        "        print(line.strip())"
      ]
    }
  ],
  "metadata": {
    "colab": {
      "provenance": []
    },
    "kernelspec": {
      "display_name": "Python 3",
      "name": "python3"
    },
    "language_info": {
      "codemirror_mode": {
        "name": "ipython",
        "version": 3
      },
      "file_extension": ".py",
      "mimetype": "text/x-python",
      "name": "python",
      "nbconvert_exporter": "python",
      "pygments_lexer": "ipython3",
      "version": "3.12.6"
    }
  },
  "nbformat": 4,
  "nbformat_minor": 0
}
